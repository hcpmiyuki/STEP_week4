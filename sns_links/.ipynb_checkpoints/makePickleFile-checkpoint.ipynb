{
 "cells": [
  {
   "cell_type": "code",
   "execution_count": 45,
   "metadata": {},
   "outputs": [],
   "source": [
    "# make hash table\n",
    "import pickle\n",
    "\n",
    "file = open(\"links.txt\")\n",
    "lines = file.readlines() \n",
    "f.close()\n",
    "\n",
    "graph = {}\n",
    "for line in lines:\n",
    "    f_node, t_node = line.split(\"\\t\")\n",
    "    if int(f_node) not in graph:\n",
    "        graph[int(f_node)] = []\n",
    "    graph[int(f_node)].append(int(t_node.replace(\"\\n\", \"\")))\n",
    "    \n",
    "pickle.dump(graph, open(\"sns_links_graph_table.pickle\", \"wb\"))"
   ]
  },
  {
   "cell_type": "code",
   "execution_count": 61,
   "metadata": {},
   "outputs": [],
   "source": [
    "# nicknames.txt to dictionary\n",
    "import pickle\n",
    "\n",
    "file = open(\"nicknames.txt\")\n",
    "lines = file.readlines() \n",
    "f.close()\n",
    "\n",
    "nicknames = {}\n",
    "for line in lines:\n",
    "    user_id, nickname = line.split(\"\\t\")\n",
    "    nicknames[nickname.replace(\"\\n\", \"\")] = int(user_id)\n",
    "\n",
    "pickle.dump(nicknames, open(\"nicknames_dic.pickle\", \"wb\"))"
   ]
  }
 ],
 "metadata": {
  "kernelspec": {
   "display_name": "Python 3",
   "language": "python",
   "name": "python3"
  },
  "language_info": {
   "codemirror_mode": {
    "name": "ipython",
    "version": 3
   },
   "file_extension": ".py",
   "mimetype": "text/x-python",
   "name": "python",
   "nbconvert_exporter": "python",
   "pygments_lexer": "ipython3",
   "version": "3.7.3"
  }
 },
 "nbformat": 4,
 "nbformat_minor": 2
}
